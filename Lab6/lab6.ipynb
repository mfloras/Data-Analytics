{
 "cells": [
  {
   "attachments": {},
   "cell_type": "markdown",
   "metadata": {},
   "source": [
    "# Lab 6 - Model comparison\n",
    "### Mateusz Floras"
   ]
  },
  {
   "cell_type": "code",
   "execution_count": 103,
   "metadata": {},
   "outputs": [],
   "source": [
    "from cmdstanpy import CmdStanModel\n",
    "import arviz as az\n",
    "import matplotlib.pyplot as plt"
   ]
  },
  {
   "attachments": {},
   "cell_type": "markdown",
   "metadata": {},
   "source": [
    "### Exercise 1"
   ]
  },
  {
   "cell_type": "code",
   "execution_count": 104,
   "metadata": {},
   "outputs": [],
   "source": [
    "F = len(\"Mateusz\")\n",
    "L = len(\"Floras\")\n",
    "N = (L+F)*100"
   ]
  },
  {
   "cell_type": "code",
   "execution_count": 105,
   "metadata": {},
   "outputs": [
    {
     "name": "stderr",
     "output_type": "stream",
     "text": [
      "INFO:cmdstanpy:found newer exe file, not recompiling\n"
     ]
    }
   ],
   "source": [
    "model_1=CmdStanModel(stan_file='code_1.stan')"
   ]
  },
  {
   "cell_type": "code",
   "execution_count": 106,
   "metadata": {},
   "outputs": [
    {
     "name": "stderr",
     "output_type": "stream",
     "text": [
      "INFO:cmdstanpy:CmdStan start processing\n",
      "chain 1 |\u001b[34m██████████\u001b[0m| 00:00 Sampling completed"
     ]
    },
    {
     "name": "stdout",
     "output_type": "stream",
     "text": [
      "                                                                                "
     ]
    },
    {
     "name": "stderr",
     "output_type": "stream",
     "text": [
      "\n",
      "INFO:cmdstanpy:CmdStan done processing.\n"
     ]
    },
    {
     "name": "stdout",
     "output_type": "stream",
     "text": [
      "\n"
     ]
    },
    {
     "data": {
      "text/html": [
       "<div>\n",
       "<style scoped>\n",
       "    .dataframe tbody tr th:only-of-type {\n",
       "        vertical-align: middle;\n",
       "    }\n",
       "\n",
       "    .dataframe tbody tr th {\n",
       "        vertical-align: top;\n",
       "    }\n",
       "\n",
       "    .dataframe thead th {\n",
       "        text-align: right;\n",
       "    }\n",
       "</style>\n",
       "<table border=\"1\" class=\"dataframe\">\n",
       "  <thead>\n",
       "    <tr style=\"text-align: right;\">\n",
       "      <th></th>\n",
       "      <th>lp__</th>\n",
       "      <th>accept_stat__</th>\n",
       "      <th>theta</th>\n",
       "      <th>y[1]</th>\n",
       "      <th>y[2]</th>\n",
       "      <th>y[3]</th>\n",
       "      <th>y[4]</th>\n",
       "      <th>y[5]</th>\n",
       "      <th>y[6]</th>\n",
       "      <th>y[7]</th>\n",
       "      <th>...</th>\n",
       "      <th>y[1291]</th>\n",
       "      <th>y[1292]</th>\n",
       "      <th>y[1293]</th>\n",
       "      <th>y[1294]</th>\n",
       "      <th>y[1295]</th>\n",
       "      <th>y[1296]</th>\n",
       "      <th>y[1297]</th>\n",
       "      <th>y[1298]</th>\n",
       "      <th>y[1299]</th>\n",
       "      <th>y[1300]</th>\n",
       "    </tr>\n",
       "  </thead>\n",
       "  <tbody>\n",
       "    <tr>\n",
       "      <th>0</th>\n",
       "      <td>0.0</td>\n",
       "      <td>0.0</td>\n",
       "      <td>0.01</td>\n",
       "      <td>1.76339</td>\n",
       "      <td>-0.774196</td>\n",
       "      <td>1.22628</td>\n",
       "      <td>1.33592</td>\n",
       "      <td>-0.621769</td>\n",
       "      <td>-0.53295</td>\n",
       "      <td>-0.109243</td>\n",
       "      <td>...</td>\n",
       "      <td>-0.442286</td>\n",
       "      <td>-1.50366</td>\n",
       "      <td>1.35953</td>\n",
       "      <td>-1.21105</td>\n",
       "      <td>1.39971</td>\n",
       "      <td>0.217959</td>\n",
       "      <td>1.12763</td>\n",
       "      <td>-15.8816</td>\n",
       "      <td>0.422107</td>\n",
       "      <td>1.79333</td>\n",
       "    </tr>\n",
       "  </tbody>\n",
       "</table>\n",
       "<p>1 rows × 1303 columns</p>\n",
       "</div>"
      ],
      "text/plain": [
       "   lp__  accept_stat__  theta     y[1]      y[2]     y[3]     y[4]      y[5]  \\\n",
       "0   0.0            0.0   0.01  1.76339 -0.774196  1.22628  1.33592 -0.621769   \n",
       "\n",
       "      y[6]      y[7]  ...   y[1291]  y[1292]  y[1293]  y[1294]  y[1295]  \\\n",
       "0 -0.53295 -0.109243  ... -0.442286 -1.50366  1.35953 -1.21105  1.39971   \n",
       "\n",
       "    y[1296]  y[1297]  y[1298]   y[1299]  y[1300]  \n",
       "0  0.217959  1.12763 -15.8816  0.422107  1.79333  \n",
       "\n",
       "[1 rows x 1303 columns]"
      ]
     },
     "execution_count": 106,
     "metadata": {},
     "output_type": "execute_result"
    }
   ],
   "source": [
    "sim_1=model_1.sample(data={'N': N}, iter_sampling=1, iter_warmup=0, chains=1, fixed_param=True)\n",
    "sim_1_df = sim_1.draws_pd()\n",
    "sim_1_df.head()"
   ]
  },
  {
   "cell_type": "code",
   "execution_count": 107,
   "metadata": {},
   "outputs": [
    {
     "name": "stderr",
     "output_type": "stream",
     "text": [
      "INFO:cmdstanpy:found newer exe file, not recompiling\n"
     ]
    }
   ],
   "source": [
    "model_2=CmdStanModel(stan_file='code_2.stan')"
   ]
  },
  {
   "cell_type": "code",
   "execution_count": 108,
   "metadata": {},
   "outputs": [
    {
     "name": "stderr",
     "output_type": "stream",
     "text": [
      "INFO:cmdstanpy:CmdStan start processing\n",
      "chain 1 |\u001b[34m██████████\u001b[0m| 00:00 Sampling completed"
     ]
    },
    {
     "name": "stdout",
     "output_type": "stream",
     "text": [
      "                                                                                "
     ]
    },
    {
     "name": "stderr",
     "output_type": "stream",
     "text": [
      "\n",
      "INFO:cmdstanpy:CmdStan done processing.\n"
     ]
    },
    {
     "name": "stdout",
     "output_type": "stream",
     "text": [
      "\n"
     ]
    },
    {
     "data": {
      "text/html": [
       "<div>\n",
       "<style scoped>\n",
       "    .dataframe tbody tr th:only-of-type {\n",
       "        vertical-align: middle;\n",
       "    }\n",
       "\n",
       "    .dataframe tbody tr th {\n",
       "        vertical-align: top;\n",
       "    }\n",
       "\n",
       "    .dataframe thead th {\n",
       "        text-align: right;\n",
       "    }\n",
       "</style>\n",
       "<table border=\"1\" class=\"dataframe\">\n",
       "  <thead>\n",
       "    <tr style=\"text-align: right;\">\n",
       "      <th></th>\n",
       "      <th>lp__</th>\n",
       "      <th>accept_stat__</th>\n",
       "      <th>X[1,1]</th>\n",
       "      <th>X[2,1]</th>\n",
       "      <th>X[3,1]</th>\n",
       "      <th>X[4,1]</th>\n",
       "      <th>X[5,1]</th>\n",
       "      <th>X[6,1]</th>\n",
       "      <th>X[7,1]</th>\n",
       "      <th>X[8,1]</th>\n",
       "      <th>...</th>\n",
       "      <th>y[1291]</th>\n",
       "      <th>y[1292]</th>\n",
       "      <th>y[1293]</th>\n",
       "      <th>y[1294]</th>\n",
       "      <th>y[1295]</th>\n",
       "      <th>y[1296]</th>\n",
       "      <th>y[1297]</th>\n",
       "      <th>y[1298]</th>\n",
       "      <th>y[1299]</th>\n",
       "      <th>y[1300]</th>\n",
       "    </tr>\n",
       "  </thead>\n",
       "  <tbody>\n",
       "    <tr>\n",
       "      <th>0</th>\n",
       "      <td>0.0</td>\n",
       "      <td>0.0</td>\n",
       "      <td>-0.34884</td>\n",
       "      <td>-0.689203</td>\n",
       "      <td>-1.33304</td>\n",
       "      <td>-0.90225</td>\n",
       "      <td>-0.045892</td>\n",
       "      <td>1.42594</td>\n",
       "      <td>0.423249</td>\n",
       "      <td>1.07297</td>\n",
       "      <td>...</td>\n",
       "      <td>1.2965</td>\n",
       "      <td>3.0057</td>\n",
       "      <td>-4.71347</td>\n",
       "      <td>1.69754</td>\n",
       "      <td>-0.599454</td>\n",
       "      <td>-4.27029</td>\n",
       "      <td>2.9683</td>\n",
       "      <td>4.26997</td>\n",
       "      <td>-0.054521</td>\n",
       "      <td>3.57645</td>\n",
       "    </tr>\n",
       "  </tbody>\n",
       "</table>\n",
       "<p>1 rows × 5205 columns</p>\n",
       "</div>"
      ],
      "text/plain": [
       "   lp__  accept_stat__   X[1,1]    X[2,1]   X[3,1]   X[4,1]    X[5,1]  \\\n",
       "0   0.0            0.0 -0.34884 -0.689203 -1.33304 -0.90225 -0.045892   \n",
       "\n",
       "    X[6,1]    X[7,1]   X[8,1]  ...  y[1291]  y[1292]  y[1293]  y[1294]  \\\n",
       "0  1.42594  0.423249  1.07297  ...   1.2965   3.0057 -4.71347  1.69754   \n",
       "\n",
       "    y[1295]  y[1296]  y[1297]  y[1298]   y[1299]  y[1300]  \n",
       "0 -0.599454 -4.27029   2.9683  4.26997 -0.054521  3.57645  \n",
       "\n",
       "[1 rows x 5205 columns]"
      ]
     },
     "execution_count": 108,
     "metadata": {},
     "output_type": "execute_result"
    }
   ],
   "source": [
    "sim_2=model_2.sample(data={'N': N}, iter_sampling=1, iter_warmup=0, chains=1, fixed_param=True)\n",
    "sim_2_df = sim_2.draws_pd()\n",
    "sim_2_df.head()"
   ]
  },
  {
   "attachments": {},
   "cell_type": "markdown",
   "metadata": {},
   "source": [
    "### Exercise 2"
   ]
  },
  {
   "cell_type": "code",
   "execution_count": 109,
   "metadata": {},
   "outputs": [
    {
     "name": "stderr",
     "output_type": "stream",
     "text": [
      "INFO:cmdstanpy:found newer exe file, not recompiling\n"
     ]
    }
   ],
   "source": [
    "model_3=CmdStanModel(stan_file='code_3.stan')"
   ]
  },
  {
   "cell_type": "code",
   "execution_count": 110,
   "metadata": {},
   "outputs": [],
   "source": [
    "df1 = sim_1_df.loc[:, 'y[1]': 'y[{}]'.format(N)].values.reshape(N)"
   ]
  },
  {
   "cell_type": "code",
   "execution_count": 111,
   "metadata": {},
   "outputs": [
    {
     "name": "stderr",
     "output_type": "stream",
     "text": [
      "INFO:cmdstanpy:CmdStan start processing\n",
      "chain 1 |\u001b[33m          \u001b[0m| 00:00 Status\n",
      "\u001b[A\n",
      "\n",
      "chain 1 |\u001b[33m▍         \u001b[0m| 00:00 Status\n",
      "\u001b[A\n",
      "\n",
      "\u001b[A\u001b[A\n",
      "chain 1 |\u001b[34m█████▉    \u001b[0m| 00:00 Iteration: 1001 / 2000 [ 50%]  (Sampling)\n",
      "\n",
      "\u001b[A\u001b[A\n",
      "\n",
      "chain 1 |\u001b[34m███████▋  \u001b[0m| 00:01 Iteration: 1400 / 2000 [ 70%]  (Sampling)\n",
      "\u001b[A\n",
      "\n",
      "chain 1 |\u001b[34m████████▋ \u001b[0m| 00:01 Iteration: 1600 / 2000 [ 80%]  (Sampling)\n",
      "\u001b[A\n",
      "\n",
      "chain 1 |\u001b[34m█████████▌\u001b[0m| 00:01 Iteration: 1800 / 2000 [ 90%]  (Sampling)\n",
      "\u001b[A\n",
      "\n",
      "\u001b[A\u001b[A\n",
      "\n",
      "chain 1 |\u001b[34m██████████\u001b[0m| 00:02 Sampling completed                       \n",
      "chain 2 |\u001b[34m██████████\u001b[0m| 00:02 Sampling completed                       \n",
      "chain 3 |\u001b[34m██████████\u001b[0m| 00:02 Sampling completed                       \n",
      "chain 4 |\u001b[34m██████████\u001b[0m| 00:02 Sampling completed                       "
     ]
    },
    {
     "name": "stdout",
     "output_type": "stream",
     "text": [
      "                                                                                                                                                                                                                                                                                                                                "
     ]
    },
    {
     "name": "stderr",
     "output_type": "stream",
     "text": [
      "\n",
      "INFO:cmdstanpy:CmdStan done processing.\n"
     ]
    },
    {
     "name": "stdout",
     "output_type": "stream",
     "text": [
      "\n"
     ]
    },
    {
     "data": {
      "text/html": [
       "<div>\n",
       "<style scoped>\n",
       "    .dataframe tbody tr th:only-of-type {\n",
       "        vertical-align: middle;\n",
       "    }\n",
       "\n",
       "    .dataframe tbody tr th {\n",
       "        vertical-align: top;\n",
       "    }\n",
       "\n",
       "    .dataframe thead th {\n",
       "        text-align: right;\n",
       "    }\n",
       "</style>\n",
       "<table border=\"1\" class=\"dataframe\">\n",
       "  <thead>\n",
       "    <tr style=\"text-align: right;\">\n",
       "      <th></th>\n",
       "      <th>lp__</th>\n",
       "      <th>accept_stat__</th>\n",
       "      <th>stepsize__</th>\n",
       "      <th>treedepth__</th>\n",
       "      <th>n_leapfrog__</th>\n",
       "      <th>divergent__</th>\n",
       "      <th>energy__</th>\n",
       "      <th>sigma</th>\n",
       "      <th>mu</th>\n",
       "      <th>log_lik[1]</th>\n",
       "      <th>...</th>\n",
       "      <th>y_hat[1291]</th>\n",
       "      <th>y_hat[1292]</th>\n",
       "      <th>y_hat[1293]</th>\n",
       "      <th>y_hat[1294]</th>\n",
       "      <th>y_hat[1295]</th>\n",
       "      <th>y_hat[1296]</th>\n",
       "      <th>y_hat[1297]</th>\n",
       "      <th>y_hat[1298]</th>\n",
       "      <th>y_hat[1299]</th>\n",
       "      <th>y_hat[1300]</th>\n",
       "    </tr>\n",
       "  </thead>\n",
       "  <tbody>\n",
       "    <tr>\n",
       "      <th>0</th>\n",
       "      <td>-2501.10</td>\n",
       "      <td>0.683934</td>\n",
       "      <td>0.911355</td>\n",
       "      <td>2.0</td>\n",
       "      <td>3.0</td>\n",
       "      <td>0.0</td>\n",
       "      <td>2505.63</td>\n",
       "      <td>1.65193</td>\n",
       "      <td>0.042208</td>\n",
       "      <td>-1.96368</td>\n",
       "      <td>...</td>\n",
       "      <td>-2.702150</td>\n",
       "      <td>-0.549755</td>\n",
       "      <td>0.577384</td>\n",
       "      <td>0.314036</td>\n",
       "      <td>2.430080</td>\n",
       "      <td>-0.312565</td>\n",
       "      <td>-1.202540</td>\n",
       "      <td>-0.113691</td>\n",
       "      <td>2.73452</td>\n",
       "      <td>-1.038430</td>\n",
       "    </tr>\n",
       "    <tr>\n",
       "      <th>1</th>\n",
       "      <td>-2500.90</td>\n",
       "      <td>0.984146</td>\n",
       "      <td>0.911355</td>\n",
       "      <td>2.0</td>\n",
       "      <td>3.0</td>\n",
       "      <td>0.0</td>\n",
       "      <td>2501.30</td>\n",
       "      <td>1.63926</td>\n",
       "      <td>0.070382</td>\n",
       "      <td>-1.94651</td>\n",
       "      <td>...</td>\n",
       "      <td>-2.100020</td>\n",
       "      <td>-1.715230</td>\n",
       "      <td>1.112800</td>\n",
       "      <td>-1.001560</td>\n",
       "      <td>-1.077220</td>\n",
       "      <td>3.403370</td>\n",
       "      <td>0.195748</td>\n",
       "      <td>-1.977920</td>\n",
       "      <td>1.69682</td>\n",
       "      <td>-0.358115</td>\n",
       "    </tr>\n",
       "    <tr>\n",
       "      <th>2</th>\n",
       "      <td>-2501.17</td>\n",
       "      <td>0.904906</td>\n",
       "      <td>0.911355</td>\n",
       "      <td>2.0</td>\n",
       "      <td>3.0</td>\n",
       "      <td>0.0</td>\n",
       "      <td>2501.72</td>\n",
       "      <td>1.68505</td>\n",
       "      <td>0.078746</td>\n",
       "      <td>-1.94049</td>\n",
       "      <td>...</td>\n",
       "      <td>-0.471645</td>\n",
       "      <td>0.289556</td>\n",
       "      <td>1.499270</td>\n",
       "      <td>-0.491703</td>\n",
       "      <td>-0.972892</td>\n",
       "      <td>0.322314</td>\n",
       "      <td>2.958200</td>\n",
       "      <td>0.803903</td>\n",
       "      <td>1.09928</td>\n",
       "      <td>0.009566</td>\n",
       "    </tr>\n",
       "    <tr>\n",
       "      <th>3</th>\n",
       "      <td>-2500.92</td>\n",
       "      <td>0.989366</td>\n",
       "      <td>0.911355</td>\n",
       "      <td>2.0</td>\n",
       "      <td>3.0</td>\n",
       "      <td>0.0</td>\n",
       "      <td>2501.36</td>\n",
       "      <td>1.66110</td>\n",
       "      <td>0.054779</td>\n",
       "      <td>-1.95543</td>\n",
       "      <td>...</td>\n",
       "      <td>0.846097</td>\n",
       "      <td>-2.129090</td>\n",
       "      <td>-3.536910</td>\n",
       "      <td>1.877900</td>\n",
       "      <td>0.275212</td>\n",
       "      <td>1.922310</td>\n",
       "      <td>0.334688</td>\n",
       "      <td>-1.635650</td>\n",
       "      <td>0.68461</td>\n",
       "      <td>1.762340</td>\n",
       "    </tr>\n",
       "    <tr>\n",
       "      <th>4</th>\n",
       "      <td>-2500.84</td>\n",
       "      <td>0.967493</td>\n",
       "      <td>0.911355</td>\n",
       "      <td>1.0</td>\n",
       "      <td>3.0</td>\n",
       "      <td>0.0</td>\n",
       "      <td>2501.20</td>\n",
       "      <td>1.65136</td>\n",
       "      <td>0.096621</td>\n",
       "      <td>-1.92991</td>\n",
       "      <td>...</td>\n",
       "      <td>1.249140</td>\n",
       "      <td>1.590560</td>\n",
       "      <td>0.459260</td>\n",
       "      <td>-1.155510</td>\n",
       "      <td>1.764610</td>\n",
       "      <td>-0.936737</td>\n",
       "      <td>0.118735</td>\n",
       "      <td>3.886790</td>\n",
       "      <td>2.39954</td>\n",
       "      <td>-0.241361</td>\n",
       "    </tr>\n",
       "  </tbody>\n",
       "</table>\n",
       "<p>5 rows × 2609 columns</p>\n",
       "</div>"
      ],
      "text/plain": [
       "      lp__  accept_stat__  stepsize__  treedepth__  n_leapfrog__  divergent__  \\\n",
       "0 -2501.10       0.683934    0.911355          2.0           3.0          0.0   \n",
       "1 -2500.90       0.984146    0.911355          2.0           3.0          0.0   \n",
       "2 -2501.17       0.904906    0.911355          2.0           3.0          0.0   \n",
       "3 -2500.92       0.989366    0.911355          2.0           3.0          0.0   \n",
       "4 -2500.84       0.967493    0.911355          1.0           3.0          0.0   \n",
       "\n",
       "   energy__    sigma        mu  log_lik[1]  ...  y_hat[1291]  y_hat[1292]  \\\n",
       "0   2505.63  1.65193  0.042208    -1.96368  ...    -2.702150    -0.549755   \n",
       "1   2501.30  1.63926  0.070382    -1.94651  ...    -2.100020    -1.715230   \n",
       "2   2501.72  1.68505  0.078746    -1.94049  ...    -0.471645     0.289556   \n",
       "3   2501.36  1.66110  0.054779    -1.95543  ...     0.846097    -2.129090   \n",
       "4   2501.20  1.65136  0.096621    -1.92991  ...     1.249140     1.590560   \n",
       "\n",
       "   y_hat[1293]  y_hat[1294]  y_hat[1295]  y_hat[1296]  y_hat[1297]  \\\n",
       "0     0.577384     0.314036     2.430080    -0.312565    -1.202540   \n",
       "1     1.112800    -1.001560    -1.077220     3.403370     0.195748   \n",
       "2     1.499270    -0.491703    -0.972892     0.322314     2.958200   \n",
       "3    -3.536910     1.877900     0.275212     1.922310     0.334688   \n",
       "4     0.459260    -1.155510     1.764610    -0.936737     0.118735   \n",
       "\n",
       "   y_hat[1298]  y_hat[1299]  y_hat[1300]  \n",
       "0    -0.113691      2.73452    -1.038430  \n",
       "1    -1.977920      1.69682    -0.358115  \n",
       "2     0.803903      1.09928     0.009566  \n",
       "3    -1.635650      0.68461     1.762340  \n",
       "4     3.886790      2.39954    -0.241361  \n",
       "\n",
       "[5 rows x 2609 columns]"
      ]
     },
     "execution_count": 111,
     "metadata": {},
     "output_type": "execute_result"
    }
   ],
   "source": [
    "sim_3 = model_3.sample(data={'N': N, 'y': df1})\n",
    "sim_3_df = sim_3.draws_pd()\n",
    "sim_3_df.head()"
   ]
  },
  {
   "cell_type": "code",
   "execution_count": 112,
   "metadata": {},
   "outputs": [
    {
     "name": "stderr",
     "output_type": "stream",
     "text": [
      "INFO:cmdstanpy:found newer exe file, not recompiling\n"
     ]
    }
   ],
   "source": [
    "model_4=CmdStanModel(stan_file='code_4.stan')"
   ]
  },
  {
   "cell_type": "code",
   "execution_count": 113,
   "metadata": {},
   "outputs": [
    {
     "name": "stderr",
     "output_type": "stream",
     "text": [
      "INFO:cmdstanpy:CmdStan start processing\n",
      "chain 1 |\u001b[33m          \u001b[0m| 00:00 Status\n",
      "\u001b[A\n",
      "\n",
      "chain 1 |\u001b[33m▍         \u001b[0m| 00:00 Status\n",
      "\u001b[A\n",
      "chain 1 |\u001b[33m████      \u001b[0m| 00:00 Iteration:  700 / 2000 [ 35%]  (Warmup)\n",
      "\n",
      "\u001b[A\u001b[A\n",
      "\u001b[A\n",
      "\n",
      "\u001b[A\u001b[A\n",
      "\u001b[A\n",
      "\n",
      "\u001b[A\u001b[A\n",
      "\u001b[A\n",
      "\u001b[A\n",
      "\n",
      "chain 1 |\u001b[34m██████▎   \u001b[0m| 00:01 Iteration: 1100 / 2000 [ 55%]  (Sampling)\n",
      "\u001b[A\n",
      "\u001b[A\n",
      "\n",
      "chain 1 |\u001b[34m███████▋  \u001b[0m| 00:11 Iteration: 1400 / 2000 [ 70%]  (Sampling)\n",
      "\u001b[A\n",
      "\n",
      "\u001b[A\u001b[A\n",
      "\u001b[A\n",
      "\n",
      "\u001b[A\u001b[A\n",
      "chain 1 |\u001b[34m████████▏ \u001b[0m| 00:23 Iteration: 1500 / 2000 [ 75%]  (Sampling)\n",
      "\n",
      "chain 1 |\u001b[34m████████▋ \u001b[0m| 00:27 Iteration: 1600 / 2000 [ 80%]  (Sampling)\n",
      "\n",
      "chain 1 |\u001b[34m█████████▌\u001b[0m| 00:37 Iteration: 1800 / 2000 [ 90%]  (Sampling)\n",
      "\n",
      "\u001b[A\u001b[A\n",
      "\n",
      "chain 1 |\u001b[34m██████████\u001b[0m| 00:43 Sampling completed                       \n",
      "chain 2 |\u001b[34m██████████\u001b[0m| 00:43 Sampling completed                       \n",
      "chain 3 |\u001b[34m██████████\u001b[0m| 00:43 Sampling completed                       \n",
      "chain 4 |\u001b[34m██████████\u001b[0m| 00:43 Sampling completed                       "
     ]
    },
    {
     "name": "stdout",
     "output_type": "stream",
     "text": [
      "                                                                                                                                                                                                                                                                                                                                "
     ]
    },
    {
     "name": "stderr",
     "output_type": "stream",
     "text": [
      "\n",
      "INFO:cmdstanpy:CmdStan done processing.\n"
     ]
    },
    {
     "name": "stdout",
     "output_type": "stream",
     "text": [
      "\n"
     ]
    },
    {
     "data": {
      "text/html": [
       "<div>\n",
       "<style scoped>\n",
       "    .dataframe tbody tr th:only-of-type {\n",
       "        vertical-align: middle;\n",
       "    }\n",
       "\n",
       "    .dataframe tbody tr th {\n",
       "        vertical-align: top;\n",
       "    }\n",
       "\n",
       "    .dataframe thead th {\n",
       "        text-align: right;\n",
       "    }\n",
       "</style>\n",
       "<table border=\"1\" class=\"dataframe\">\n",
       "  <thead>\n",
       "    <tr style=\"text-align: right;\">\n",
       "      <th></th>\n",
       "      <th>lp__</th>\n",
       "      <th>accept_stat__</th>\n",
       "      <th>stepsize__</th>\n",
       "      <th>treedepth__</th>\n",
       "      <th>n_leapfrog__</th>\n",
       "      <th>divergent__</th>\n",
       "      <th>energy__</th>\n",
       "      <th>sigma</th>\n",
       "      <th>mu</th>\n",
       "      <th>nu</th>\n",
       "      <th>...</th>\n",
       "      <th>y_hat[1291]</th>\n",
       "      <th>y_hat[1292]</th>\n",
       "      <th>y_hat[1293]</th>\n",
       "      <th>y_hat[1294]</th>\n",
       "      <th>y_hat[1295]</th>\n",
       "      <th>y_hat[1296]</th>\n",
       "      <th>y_hat[1297]</th>\n",
       "      <th>y_hat[1298]</th>\n",
       "      <th>y_hat[1299]</th>\n",
       "      <th>y_hat[1300]</th>\n",
       "    </tr>\n",
       "  </thead>\n",
       "  <tbody>\n",
       "    <tr>\n",
       "      <th>0</th>\n",
       "      <td>-1966.91</td>\n",
       "      <td>1.000000</td>\n",
       "      <td>0.61611</td>\n",
       "      <td>2.0</td>\n",
       "      <td>7.0</td>\n",
       "      <td>0.0</td>\n",
       "      <td>1968.04</td>\n",
       "      <td>0.849932</td>\n",
       "      <td>-0.011188</td>\n",
       "      <td>3.90957</td>\n",
       "      <td>...</td>\n",
       "      <td>-0.774131</td>\n",
       "      <td>0.288109</td>\n",
       "      <td>0.003170</td>\n",
       "      <td>0.661552</td>\n",
       "      <td>-1.363240</td>\n",
       "      <td>-5.478520</td>\n",
       "      <td>0.854656</td>\n",
       "      <td>0.679557</td>\n",
       "      <td>0.702958</td>\n",
       "      <td>0.278854</td>\n",
       "    </tr>\n",
       "    <tr>\n",
       "      <th>1</th>\n",
       "      <td>-1967.38</td>\n",
       "      <td>0.880112</td>\n",
       "      <td>0.61611</td>\n",
       "      <td>3.0</td>\n",
       "      <td>7.0</td>\n",
       "      <td>0.0</td>\n",
       "      <td>1968.65</td>\n",
       "      <td>0.834613</td>\n",
       "      <td>0.029952</td>\n",
       "      <td>4.44315</td>\n",
       "      <td>...</td>\n",
       "      <td>-0.139922</td>\n",
       "      <td>-1.715160</td>\n",
       "      <td>-0.943428</td>\n",
       "      <td>0.608149</td>\n",
       "      <td>-0.432740</td>\n",
       "      <td>9.711470</td>\n",
       "      <td>-0.407148</td>\n",
       "      <td>-0.627555</td>\n",
       "      <td>0.545038</td>\n",
       "      <td>1.156930</td>\n",
       "    </tr>\n",
       "    <tr>\n",
       "      <th>2</th>\n",
       "      <td>-1966.52</td>\n",
       "      <td>1.000000</td>\n",
       "      <td>0.61611</td>\n",
       "      <td>3.0</td>\n",
       "      <td>7.0</td>\n",
       "      <td>0.0</td>\n",
       "      <td>1967.72</td>\n",
       "      <td>0.870821</td>\n",
       "      <td>-0.025382</td>\n",
       "      <td>4.40255</td>\n",
       "      <td>...</td>\n",
       "      <td>-0.656413</td>\n",
       "      <td>1.544400</td>\n",
       "      <td>-0.115490</td>\n",
       "      <td>-0.225519</td>\n",
       "      <td>0.294682</td>\n",
       "      <td>0.264008</td>\n",
       "      <td>-2.134710</td>\n",
       "      <td>1.885880</td>\n",
       "      <td>-1.930530</td>\n",
       "      <td>0.175884</td>\n",
       "    </tr>\n",
       "    <tr>\n",
       "      <th>3</th>\n",
       "      <td>-1966.73</td>\n",
       "      <td>0.979744</td>\n",
       "      <td>0.61611</td>\n",
       "      <td>3.0</td>\n",
       "      <td>7.0</td>\n",
       "      <td>0.0</td>\n",
       "      <td>1967.53</td>\n",
       "      <td>0.874113</td>\n",
       "      <td>0.035734</td>\n",
       "      <td>4.34495</td>\n",
       "      <td>...</td>\n",
       "      <td>1.663680</td>\n",
       "      <td>-0.217925</td>\n",
       "      <td>-0.169221</td>\n",
       "      <td>0.826117</td>\n",
       "      <td>0.262189</td>\n",
       "      <td>-0.071226</td>\n",
       "      <td>-0.140385</td>\n",
       "      <td>0.652373</td>\n",
       "      <td>-0.957264</td>\n",
       "      <td>-2.982610</td>\n",
       "    </tr>\n",
       "    <tr>\n",
       "      <th>4</th>\n",
       "      <td>-1966.70</td>\n",
       "      <td>0.918837</td>\n",
       "      <td>0.61611</td>\n",
       "      <td>2.0</td>\n",
       "      <td>7.0</td>\n",
       "      <td>0.0</td>\n",
       "      <td>1968.18</td>\n",
       "      <td>0.890115</td>\n",
       "      <td>-0.009746</td>\n",
       "      <td>4.89661</td>\n",
       "      <td>...</td>\n",
       "      <td>-0.241793</td>\n",
       "      <td>2.871230</td>\n",
       "      <td>-0.019990</td>\n",
       "      <td>-0.098851</td>\n",
       "      <td>0.883227</td>\n",
       "      <td>-0.503527</td>\n",
       "      <td>-0.506734</td>\n",
       "      <td>-0.229758</td>\n",
       "      <td>0.671967</td>\n",
       "      <td>0.886973</td>\n",
       "    </tr>\n",
       "  </tbody>\n",
       "</table>\n",
       "<p>5 rows × 2610 columns</p>\n",
       "</div>"
      ],
      "text/plain": [
       "      lp__  accept_stat__  stepsize__  treedepth__  n_leapfrog__  divergent__  \\\n",
       "0 -1966.91       1.000000     0.61611          2.0           7.0          0.0   \n",
       "1 -1967.38       0.880112     0.61611          3.0           7.0          0.0   \n",
       "2 -1966.52       1.000000     0.61611          3.0           7.0          0.0   \n",
       "3 -1966.73       0.979744     0.61611          3.0           7.0          0.0   \n",
       "4 -1966.70       0.918837     0.61611          2.0           7.0          0.0   \n",
       "\n",
       "   energy__     sigma        mu       nu  ...  y_hat[1291]  y_hat[1292]  \\\n",
       "0   1968.04  0.849932 -0.011188  3.90957  ...    -0.774131     0.288109   \n",
       "1   1968.65  0.834613  0.029952  4.44315  ...    -0.139922    -1.715160   \n",
       "2   1967.72  0.870821 -0.025382  4.40255  ...    -0.656413     1.544400   \n",
       "3   1967.53  0.874113  0.035734  4.34495  ...     1.663680    -0.217925   \n",
       "4   1968.18  0.890115 -0.009746  4.89661  ...    -0.241793     2.871230   \n",
       "\n",
       "   y_hat[1293]  y_hat[1294]  y_hat[1295]  y_hat[1296]  y_hat[1297]  \\\n",
       "0     0.003170     0.661552    -1.363240    -5.478520     0.854656   \n",
       "1    -0.943428     0.608149    -0.432740     9.711470    -0.407148   \n",
       "2    -0.115490    -0.225519     0.294682     0.264008    -2.134710   \n",
       "3    -0.169221     0.826117     0.262189    -0.071226    -0.140385   \n",
       "4    -0.019990    -0.098851     0.883227    -0.503527    -0.506734   \n",
       "\n",
       "   y_hat[1298]  y_hat[1299]  y_hat[1300]  \n",
       "0     0.679557     0.702958     0.278854  \n",
       "1    -0.627555     0.545038     1.156930  \n",
       "2     1.885880    -1.930530     0.175884  \n",
       "3     0.652373    -0.957264    -2.982610  \n",
       "4    -0.229758     0.671967     0.886973  \n",
       "\n",
       "[5 rows x 2610 columns]"
      ]
     },
     "execution_count": 113,
     "metadata": {},
     "output_type": "execute_result"
    }
   ],
   "source": [
    "sim_4 = model_4.sample(data={'N': N, 'y': df1})\n",
    "sim_4_df = sim_4.draws_pd()\n",
    "sim_4_df.head()"
   ]
  },
  {
   "cell_type": "code",
   "execution_count": 114,
   "metadata": {},
   "outputs": [
    {
     "name": "stderr",
     "output_type": "stream",
     "text": [
      "/usr/local/lib/python3.9/site-packages/arviz/stats/stats.py:811: UserWarning: Estimated shape parameter of Pareto distribution is greater than 0.7 for one or more samples. You should consider using a more robust model, this is because importance sampling is less likely to work well if the marginal posterior and LOO posterior are very different. This is more likely to happen with a non-robust model and highly influential observations.\n",
      "  warnings.warn(\n"
     ]
    },
    {
     "data": {
      "text/html": [
       "<div>\n",
       "<style scoped>\n",
       "    .dataframe tbody tr th:only-of-type {\n",
       "        vertical-align: middle;\n",
       "    }\n",
       "\n",
       "    .dataframe tbody tr th {\n",
       "        vertical-align: top;\n",
       "    }\n",
       "\n",
       "    .dataframe thead th {\n",
       "        text-align: right;\n",
       "    }\n",
       "</style>\n",
       "<table border=\"1\" class=\"dataframe\">\n",
       "  <thead>\n",
       "    <tr style=\"text-align: right;\">\n",
       "      <th></th>\n",
       "      <th>rank</th>\n",
       "      <th>loo</th>\n",
       "      <th>p_loo</th>\n",
       "      <th>d_loo</th>\n",
       "      <th>weight</th>\n",
       "      <th>se</th>\n",
       "      <th>dse</th>\n",
       "      <th>warning</th>\n",
       "      <th>loo_scale</th>\n",
       "    </tr>\n",
       "  </thead>\n",
       "  <tbody>\n",
       "    <tr>\n",
       "      <th>student model</th>\n",
       "      <td>0</td>\n",
       "      <td>-1968.160075</td>\n",
       "      <td>5.040485</td>\n",
       "      <td>0.000000</td>\n",
       "      <td>1.000000e+00</td>\n",
       "      <td>40.200652</td>\n",
       "      <td>0.000000</td>\n",
       "      <td>False</td>\n",
       "      <td>log</td>\n",
       "    </tr>\n",
       "    <tr>\n",
       "      <th>normal model</th>\n",
       "      <td>1</td>\n",
       "      <td>-2528.004912</td>\n",
       "      <td>49.724559</td>\n",
       "      <td>559.844837</td>\n",
       "      <td>4.819952e-09</td>\n",
       "      <td>217.611984</td>\n",
       "      <td>193.018369</td>\n",
       "      <td>True</td>\n",
       "      <td>log</td>\n",
       "    </tr>\n",
       "  </tbody>\n",
       "</table>\n",
       "</div>"
      ],
      "text/plain": [
       "               rank          loo      p_loo       d_loo        weight  \\\n",
       "student model     0 -1968.160075   5.040485    0.000000  1.000000e+00   \n",
       "normal model      1 -2528.004912  49.724559  559.844837  4.819952e-09   \n",
       "\n",
       "                       se         dse  warning loo_scale  \n",
       "student model   40.200652    0.000000    False       log  \n",
       "normal model   217.611984  193.018369     True       log  "
      ]
     },
     "execution_count": 114,
     "metadata": {},
     "output_type": "execute_result"
    }
   ],
   "source": [
    "models_34 = {'normal model': sim_3, 'student model': sim_4}\n",
    "loo_comparison = az.compare(models_34, ic='loo')\n",
    "loo_comparison.head()"
   ]
  },
  {
   "cell_type": "code",
   "execution_count": 115,
   "metadata": {},
   "outputs": [
    {
     "data": {
      "image/png": "[encoded data removed]",
      "text/plain": [
       "<Figure size 720x360 with 1 Axes>"
      ]
     },
     "metadata": {
      "needs_background": "light"
     },
     "output_type": "display_data"
    }
   ],
   "source": [
    "az.plot_compare(comp_df=loo_comparison, figsize=(10,5))\n",
    "plt.title(\"Loo comparison\")\n",
    "plt.show()"
   ]
  },
  {
   "cell_type": "code",
   "execution_count": 116,
   "metadata": {},
   "outputs": [
    {
     "name": "stderr",
     "output_type": "stream",
     "text": [
      "/usr/local/lib/python3.9/site-packages/arviz/stats/stats.py:1635: UserWarning: For one or more samples the posterior variance of the log predictive densities exceeds 0.4. This could be indication of WAIC starting to fail. \n",
      "See http://arxiv.org/abs/1507.04544 for details\n",
      "  warnings.warn(\n",
      "/usr/local/lib/python3.9/site-packages/arviz/stats/stats.py:1635: UserWarning: For one or more samples the posterior variance of the log predictive densities exceeds 0.4. This could be indication of WAIC starting to fail. \n",
      "See http://arxiv.org/abs/1507.04544 for details\n",
      "  warnings.warn(\n"
     ]
    },
    {
     "data": {
      "text/html": [
       "<div>\n",
       "<style scoped>\n",
       "    .dataframe tbody tr th:only-of-type {\n",
       "        vertical-align: middle;\n",
       "    }\n",
       "\n",
       "    .dataframe tbody tr th {\n",
       "        vertical-align: top;\n",
       "    }\n",
       "\n",
       "    .dataframe thead th {\n",
       "        text-align: right;\n",
       "    }\n",
       "</style>\n",
       "<table border=\"1\" class=\"dataframe\">\n",
       "  <thead>\n",
       "    <tr style=\"text-align: right;\">\n",
       "      <th></th>\n",
       "      <th>rank</th>\n",
       "      <th>waic</th>\n",
       "      <th>p_waic</th>\n",
       "      <th>d_waic</th>\n",
       "      <th>weight</th>\n",
       "      <th>se</th>\n",
       "      <th>dse</th>\n",
       "      <th>warning</th>\n",
       "      <th>waic_scale</th>\n",
       "    </tr>\n",
       "  </thead>\n",
       "  <tbody>\n",
       "    <tr>\n",
       "      <th>student model</th>\n",
       "      <td>0</td>\n",
       "      <td>-1968.120893</td>\n",
       "      <td>5.001303</td>\n",
       "      <td>0.000000</td>\n",
       "      <td>1.000000e+00</td>\n",
       "      <td>40.187687</td>\n",
       "      <td>0.000000</td>\n",
       "      <td>True</td>\n",
       "      <td>log</td>\n",
       "    </tr>\n",
       "    <tr>\n",
       "      <th>normal model</th>\n",
       "      <td>1</td>\n",
       "      <td>-2542.359457</td>\n",
       "      <td>64.079103</td>\n",
       "      <td>574.238564</td>\n",
       "      <td>5.112923e-09</td>\n",
       "      <td>229.913073</td>\n",
       "      <td>205.752879</td>\n",
       "      <td>True</td>\n",
       "      <td>log</td>\n",
       "    </tr>\n",
       "  </tbody>\n",
       "</table>\n",
       "</div>"
      ],
      "text/plain": [
       "               rank         waic     p_waic      d_waic        weight  \\\n",
       "student model     0 -1968.120893   5.001303    0.000000  1.000000e+00   \n",
       "normal model      1 -2542.359457  64.079103  574.238564  5.112923e-09   \n",
       "\n",
       "                       se         dse  warning waic_scale  \n",
       "student model   40.187687    0.000000     True        log  \n",
       "normal model   229.913073  205.752879     True        log  "
      ]
     },
     "execution_count": 116,
     "metadata": {},
     "output_type": "execute_result"
    }
   ],
   "source": [
    "waic_comparison = az.compare(models_34, ic='waic')\n",
    "waic_comparison.head()"
   ]
  },
  {
   "cell_type": "code",
   "execution_count": 117,
   "metadata": {},
   "outputs": [
    {
     "data": {
      "image/png": "[encoded data removed]",
      "text/plain": [
       "<Figure size 720x360 with 1 Axes>"
      ]
     },
     "metadata": {
      "needs_background": "light"
     },
     "output_type": "display_data"
    }
   ],
   "source": [
    "az.plot_compare(comp_df=waic_comparison, figsize=(10,5))\n",
    "plt.title(\"Waic comparison\")\n",
    "plt.show()"
   ]
  },
  {
   "attachments": {},
   "cell_type": "markdown",
   "metadata": {},
   "source": [
    "Based on results of analysis using LOO and WAIC criteria, the better one is student model."
   ]
  },
  {
   "attachments": {},
   "cell_type": "markdown",
   "metadata": {},
   "source": [
    "### Exercise 3"
   ]
  },
  {
   "cell_type": "code",
   "execution_count": 118,
   "metadata": {},
   "outputs": [
    {
     "name": "stderr",
     "output_type": "stream",
     "text": [
      "INFO:cmdstanpy:found newer exe file, not recompiling\n"
     ]
    }
   ],
   "source": [
    "model_5=CmdStanModel(stan_file='code_5.stan')"
   ]
  },
  {
   "cell_type": "code",
   "execution_count": 119,
   "metadata": {},
   "outputs": [
    {
     "name": "stderr",
     "output_type": "stream",
     "text": [
      "INFO:cmdstanpy:CmdStan start processing\n",
      "chain 1 |\u001b[33m          \u001b[0m| 00:00 Status\n",
      "\u001b[A\n",
      "\n",
      "\u001b[A\u001b[A\n",
      "chain 1 |\u001b[33m▍         \u001b[0m| 00:00 Status\n",
      "\n",
      "\u001b[A\u001b[A\n",
      "chain 1 |\u001b[33m█▊        \u001b[0m| 00:00 Iteration:  200 / 2000 [ 10%]  (Warmup)\n",
      "\n",
      "chain 1 |\u001b[33m████      \u001b[0m| 00:00 Iteration:  700 / 2000 [ 35%]  (Warmup)\n",
      "\n",
      "\u001b[A\u001b[A\n",
      "chain 1 |\u001b[34m█████▉    \u001b[0m| 00:00 Iteration: 1001 / 2000 [ 50%]  (Sampling)\n",
      "\n",
      "\u001b[A\u001b[A\n",
      "chain 1 |\u001b[34m███████▎  \u001b[0m| 00:01 Iteration: 1300 / 2000 [ 65%]  (Sampling)\n",
      "\n",
      "chain 1 |\u001b[34m████████▏ \u001b[0m| 00:02 Iteration: 1500 / 2000 [ 75%]  (Sampling)\n",
      "\u001b[A\n",
      "\n",
      "\u001b[A\u001b[A\n",
      "\n",
      "\u001b[A\u001b[A\n",
      "chain 1 |\u001b[34m█████████ \u001b[0m| 00:03 Iteration: 1700 / 2000 [ 85%]  (Sampling)\n",
      "\n",
      "\u001b[A\u001b[A\n",
      "chain 1 |\u001b[34m█████████▌\u001b[0m| 00:04 Iteration: 1800 / 2000 [ 90%]  (Sampling)\n",
      "\n",
      "\u001b[A\u001b[A\n",
      "chain 1 |\u001b[34m██████████\u001b[0m| 00:04 Sampling completed                       \n",
      "chain 2 |\u001b[34m██████████\u001b[0m| 00:04 Sampling completed                       \n",
      "chain 3 |\u001b[34m██████████\u001b[0m| 00:04 Sampling completed                       \n",
      "chain 4 |\u001b[34m██████████\u001b[0m| 00:04 Sampling completed                       "
     ]
    },
    {
     "name": "stdout",
     "output_type": "stream",
     "text": [
      "                                                                                                                                                                                                                                                                                                                                "
     ]
    },
    {
     "name": "stderr",
     "output_type": "stream",
     "text": [
      "\n",
      "INFO:cmdstanpy:CmdStan done processing.\n"
     ]
    },
    {
     "name": "stdout",
     "output_type": "stream",
     "text": [
      "\n"
     ]
    }
   ],
   "source": [
    "df2 = sim_2_df.loc[:, 'y[1]': 'y[{}]'.format(N)].values.reshape(N)\n",
    "x_1_df = sim_2_df.loc[:, 'X[1,1]': 'X[{},1]'.format(N)].values.reshape((N, 1))\n",
    "data_5_1 = {'N': N, 'K': 1, 'y': df2, 'X': x_1_df}\n",
    "sim_5_1 = model_5.sample(data=data_5_1)"
   ]
  },
  {
   "cell_type": "code",
   "execution_count": 120,
   "metadata": {},
   "outputs": [
    {
     "name": "stderr",
     "output_type": "stream",
     "text": [
      "INFO:cmdstanpy:CmdStan start processing\n",
      "chain 1 |\u001b[33m          \u001b[0m| 00:00 Status\n",
      "\u001b[A\n",
      "\n",
      "chain 1 |\u001b[33m▍         \u001b[0m| 00:00 Status\n",
      "\u001b[A\n",
      "\n",
      "chain 1 |\u001b[33m█▊        \u001b[0m| 00:00 Iteration:  200 / 2000 [ 10%]  (Warmup)\n",
      "\u001b[A\n",
      "\n",
      "chain 1 |\u001b[33m███▏      \u001b[0m| 00:00 Iteration:  500 / 2000 [ 25%]  (Warmup)\n",
      "chain 1 |\u001b[33m████▌     \u001b[0m| 00:00 Iteration:  800 / 2000 [ 40%]  (Warmup)\n",
      "\n",
      "\u001b[A\u001b[A\n",
      "\u001b[A\n",
      "\n",
      "chain 1 |\u001b[34m█████▉    \u001b[0m| 00:00 Iteration: 1001 / 2000 [ 50%]  (Sampling)\n",
      "\u001b[A\n",
      "\n",
      "chain 1 |\u001b[34m██████▊   \u001b[0m| 00:01 Iteration: 1200 / 2000 [ 60%]  (Sampling)\n",
      "\u001b[A\n",
      "\n",
      "chain 1 |\u001b[34m███████▋  \u001b[0m| 00:02 Iteration: 1400 / 2000 [ 70%]  (Sampling)\n",
      "\u001b[A\n",
      "\n",
      "chain 1 |\u001b[34m████████▏ \u001b[0m| 00:02 Iteration: 1500 / 2000 [ 75%]  (Sampling)\n",
      "chain 1 |\u001b[34m████████▋ \u001b[0m| 00:03 Iteration: 1600 / 2000 [ 80%]  (Sampling)\n",
      "\n",
      "\u001b[A\u001b[A\n",
      "chain 1 |\u001b[34m█████████ \u001b[0m| 00:03 Iteration: 1700 / 2000 [ 85%]  (Sampling)\n",
      "\n",
      "\u001b[A\u001b[A\n",
      "\u001b[A\n",
      "\n",
      "chain 1 |\u001b[34m█████████▌\u001b[0m| 00:04 Iteration: 1800 / 2000 [ 90%]  (Sampling)\n",
      "\u001b[A\n",
      "chain 1 |\u001b[34m██████████\u001b[0m| 00:04 Sampling completed                       \n",
      "chain 2 |\u001b[34m██████████\u001b[0m| 00:04 Sampling completed                       \n",
      "chain 3 |\u001b[34m██████████\u001b[0m| 00:04 Sampling completed                       \n",
      "chain 4 |\u001b[34m██████████\u001b[0m| 00:04 Sampling completed                       "
     ]
    },
    {
     "name": "stdout",
     "output_type": "stream",
     "text": [
      "                                                                                                                                                                                                                                                                                                                                "
     ]
    },
    {
     "name": "stderr",
     "output_type": "stream",
     "text": [
      "\n",
      "INFO:cmdstanpy:CmdStan done processing.\n"
     ]
    },
    {
     "name": "stdout",
     "output_type": "stream",
     "text": [
      "\n"
     ]
    }
   ],
   "source": [
    "x_2_df = sim_2_df.loc[:, 'X[1,1]': 'X[{},2]'.format(N)].values.reshape((N, 2))\n",
    "data_5_2 = {'N': N, 'K': 2, 'y': df2, 'X': x_2_df}\n",
    "sim_5_2 = model_5.sample(data=data_5_2)"
   ]
  },
  {
   "cell_type": "code",
   "execution_count": 121,
   "metadata": {},
   "outputs": [
    {
     "name": "stderr",
     "output_type": "stream",
     "text": [
      "INFO:cmdstanpy:CmdStan start processing\n",
      "chain 1 |\u001b[33m          \u001b[0m| 00:00 Status\n",
      "\u001b[A\n",
      "\n",
      "chain 1 |\u001b[33m▉         \u001b[0m| 00:00 Iteration:    1 / 2000 [  0%]  (Warmup)\n",
      "\u001b[A\n",
      "\n",
      "\u001b[A\u001b[A\n",
      "\u001b[A\n",
      "\n",
      "chain 1 |\u001b[34m█████▉    \u001b[0m| 00:00 Iteration: 1001 / 2000 [ 50%]  (Sampling)\n",
      "\n",
      "\u001b[A\u001b[A\n",
      "\u001b[A\n",
      "\n",
      "chain 1 |\u001b[34m██████▊   \u001b[0m| 00:03 Iteration: 1200 / 2000 [ 60%]  (Sampling)\n",
      "\n",
      "\u001b[A\u001b[A\n",
      "chain 1 |\u001b[34m███████▋  \u001b[0m| 00:09 Iteration: 1400 / 2000 [ 70%]  (Sampling)\n",
      "\n",
      "\u001b[A\u001b[A\n",
      "\n",
      "chain 1 |\u001b[34m████████▏ \u001b[0m| 00:11 Iteration: 1500 / 2000 [ 75%]  (Sampling)\n",
      "\n",
      "chain 1 |\u001b[34m████████▋ \u001b[0m| 00:13 Iteration: 1600 / 2000 [ 80%]  (Sampling)\n",
      "\u001b[A\n",
      "\n",
      "chain 1 |\u001b[34m█████████ \u001b[0m| 00:14 Iteration: 1700 / 2000 [ 85%]  (Sampling)\n",
      "\n",
      "chain 1 |\u001b[34m█████████▌\u001b[0m| 00:18 Iteration: 1800 / 2000 [ 90%]  (Sampling)\n",
      "\u001b[A\n",
      "\n",
      "chain 1 |\u001b[34m██████████\u001b[0m| 00:19 Iteration: 1900 / 2000 [ 95%]  (Sampling)\n",
      "\u001b[A\n",
      "chain 1 |\u001b[34m██████████\u001b[0m| 00:21 Sampling completed                       \n",
      "chain 2 |\u001b[34m██████████\u001b[0m| 00:21 Sampling completed                       \n",
      "chain 3 |\u001b[34m██████████\u001b[0m| 00:21 Sampling completed                       \n",
      "chain 4 |\u001b[34m██████████\u001b[0m| 00:21 Sampling completed                       "
     ]
    },
    {
     "name": "stdout",
     "output_type": "stream",
     "text": [
      "                                                                                                                                                                                                                                                                                                                                "
     ]
    },
    {
     "name": "stderr",
     "output_type": "stream",
     "text": [
      "\n",
      "INFO:cmdstanpy:CmdStan done processing.\n"
     ]
    },
    {
     "name": "stdout",
     "output_type": "stream",
     "text": [
      "\n"
     ]
    }
   ],
   "source": [
    "x_3_df = sim_2_df.loc[:, 'X[1,1]': 'X[{},3]'.format(N)].values.reshape((N, 3))\n",
    "data_5_3 = {'N': N, 'K': 3, 'y': df2, 'X': x_3_df}\n",
    "sim_5_3 = model_5.sample(data=data_5_3)"
   ]
  },
  {
   "cell_type": "code",
   "execution_count": 122,
   "metadata": {},
   "outputs": [],
   "source": [
    "models_5 = {'1 predictor': sim_5_1, '2 predictors': sim_5_2, '3 predictors': sim_5_3}"
   ]
  },
  {
   "cell_type": "code",
   "execution_count": 123,
   "metadata": {},
   "outputs": [
    {
     "data": {
      "text/html": [
       "<div>\n",
       "<style scoped>\n",
       "    .dataframe tbody tr th:only-of-type {\n",
       "        vertical-align: middle;\n",
       "    }\n",
       "\n",
       "    .dataframe tbody tr th {\n",
       "        vertical-align: top;\n",
       "    }\n",
       "\n",
       "    .dataframe thead th {\n",
       "        text-align: right;\n",
       "    }\n",
       "</style>\n",
       "<table border=\"1\" class=\"dataframe\">\n",
       "  <thead>\n",
       "    <tr style=\"text-align: right;\">\n",
       "      <th></th>\n",
       "      <th>rank</th>\n",
       "      <th>loo</th>\n",
       "      <th>p_loo</th>\n",
       "      <th>d_loo</th>\n",
       "      <th>weight</th>\n",
       "      <th>se</th>\n",
       "      <th>dse</th>\n",
       "      <th>warning</th>\n",
       "      <th>loo_scale</th>\n",
       "    </tr>\n",
       "  </thead>\n",
       "  <tbody>\n",
       "    <tr>\n",
       "      <th>1 predictor</th>\n",
       "      <td>0</td>\n",
       "      <td>-2349.082417</td>\n",
       "      <td>1.956582</td>\n",
       "      <td>0.000000</td>\n",
       "      <td>0.999623</td>\n",
       "      <td>25.358700</td>\n",
       "      <td>0.000000</td>\n",
       "      <td>False</td>\n",
       "      <td>log</td>\n",
       "    </tr>\n",
       "    <tr>\n",
       "      <th>3 predictors</th>\n",
       "      <td>1</td>\n",
       "      <td>-3057.205495</td>\n",
       "      <td>3.912097</td>\n",
       "      <td>708.123078</td>\n",
       "      <td>0.000377</td>\n",
       "      <td>25.655156</td>\n",
       "      <td>30.070094</td>\n",
       "      <td>False</td>\n",
       "      <td>log</td>\n",
       "    </tr>\n",
       "    <tr>\n",
       "      <th>2 predictors</th>\n",
       "      <td>2</td>\n",
       "      <td>-3058.669419</td>\n",
       "      <td>3.084717</td>\n",
       "      <td>709.587002</td>\n",
       "      <td>0.000000</td>\n",
       "      <td>25.394299</td>\n",
       "      <td>29.968703</td>\n",
       "      <td>False</td>\n",
       "      <td>log</td>\n",
       "    </tr>\n",
       "  </tbody>\n",
       "</table>\n",
       "</div>"
      ],
      "text/plain": [
       "              rank          loo     p_loo       d_loo    weight         se  \\\n",
       "1 predictor      0 -2349.082417  1.956582    0.000000  0.999623  25.358700   \n",
       "3 predictors     1 -3057.205495  3.912097  708.123078  0.000377  25.655156   \n",
       "2 predictors     2 -3058.669419  3.084717  709.587002  0.000000  25.394299   \n",
       "\n",
       "                    dse  warning loo_scale  \n",
       "1 predictor    0.000000    False       log  \n",
       "3 predictors  30.070094    False       log  \n",
       "2 predictors  29.968703    False       log  "
      ]
     },
     "execution_count": 123,
     "metadata": {},
     "output_type": "execute_result"
    }
   ],
   "source": [
    "loo_comparison = az.compare(models_5, ic='loo')\n",
    "loo_comparison.head()"
   ]
  },
  {
   "cell_type": "code",
   "execution_count": 124,
   "metadata": {},
   "outputs": [
    {
     "data": {
      "image/png": "[encoded data removed]",
      "text/plain": [
       "<Figure size 720x360 with 1 Axes>"
      ]
     },
     "metadata": {
      "needs_background": "light"
     },
     "output_type": "display_data"
    }
   ],
   "source": [
    "az.plot_compare(comp_df=loo_comparison, figsize=(10,5))\n",
    "plt.title(\"Loo comparison\")\n",
    "plt.show()"
   ]
  },
  {
   "cell_type": "code",
   "execution_count": 125,
   "metadata": {},
   "outputs": [
    {
     "data": {
      "text/html": [
       "<div>\n",
       "<style scoped>\n",
       "    .dataframe tbody tr th:only-of-type {\n",
       "        vertical-align: middle;\n",
       "    }\n",
       "\n",
       "    .dataframe tbody tr th {\n",
       "        vertical-align: top;\n",
       "    }\n",
       "\n",
       "    .dataframe thead th {\n",
       "        text-align: right;\n",
       "    }\n",
       "</style>\n",
       "<table border=\"1\" class=\"dataframe\">\n",
       "  <thead>\n",
       "    <tr style=\"text-align: right;\">\n",
       "      <th></th>\n",
       "      <th>rank</th>\n",
       "      <th>waic</th>\n",
       "      <th>p_waic</th>\n",
       "      <th>d_waic</th>\n",
       "      <th>weight</th>\n",
       "      <th>se</th>\n",
       "      <th>dse</th>\n",
       "      <th>warning</th>\n",
       "      <th>waic_scale</th>\n",
       "    </tr>\n",
       "  </thead>\n",
       "  <tbody>\n",
       "    <tr>\n",
       "      <th>1 predictor</th>\n",
       "      <td>0</td>\n",
       "      <td>-2349.082391</td>\n",
       "      <td>1.956556</td>\n",
       "      <td>0.000000</td>\n",
       "      <td>0.999623</td>\n",
       "      <td>25.358694</td>\n",
       "      <td>0.000000</td>\n",
       "      <td>False</td>\n",
       "      <td>log</td>\n",
       "    </tr>\n",
       "    <tr>\n",
       "      <th>3 predictors</th>\n",
       "      <td>1</td>\n",
       "      <td>-3057.205310</td>\n",
       "      <td>3.911912</td>\n",
       "      <td>708.122920</td>\n",
       "      <td>0.000377</td>\n",
       "      <td>25.655135</td>\n",
       "      <td>30.070079</td>\n",
       "      <td>False</td>\n",
       "      <td>log</td>\n",
       "    </tr>\n",
       "    <tr>\n",
       "      <th>2 predictors</th>\n",
       "      <td>2</td>\n",
       "      <td>-3058.669227</td>\n",
       "      <td>3.084526</td>\n",
       "      <td>709.586836</td>\n",
       "      <td>0.000000</td>\n",
       "      <td>25.394266</td>\n",
       "      <td>29.968681</td>\n",
       "      <td>False</td>\n",
       "      <td>log</td>\n",
       "    </tr>\n",
       "  </tbody>\n",
       "</table>\n",
       "</div>"
      ],
      "text/plain": [
       "              rank         waic    p_waic      d_waic    weight         se  \\\n",
       "1 predictor      0 -2349.082391  1.956556    0.000000  0.999623  25.358694   \n",
       "3 predictors     1 -3057.205310  3.911912  708.122920  0.000377  25.655135   \n",
       "2 predictors     2 -3058.669227  3.084526  709.586836  0.000000  25.394266   \n",
       "\n",
       "                    dse  warning waic_scale  \n",
       "1 predictor    0.000000    False        log  \n",
       "3 predictors  30.070079    False        log  \n",
       "2 predictors  29.968681    False        log  "
      ]
     },
     "execution_count": 125,
     "metadata": {},
     "output_type": "execute_result"
    }
   ],
   "source": [
    "waic_comparison = az.compare(models_5, ic='waic')\n",
    "waic_comparison.head()"
   ]
  },
  {
   "cell_type": "code",
   "execution_count": 126,
   "metadata": {},
   "outputs": [
    {
     "data": {
      "image/png": "[encoded data removed]",
      "text/plain": [
       "<Figure size 720x360 with 1 Axes>"
      ]
     },
     "metadata": {
      "needs_background": "light"
     },
     "output_type": "display_data"
    }
   ],
   "source": [
    "az.plot_compare(comp_df=waic_comparison, insample_dev=True,figsize=(10,5))\n",
    "plt.title(\"Waic comparison\")\n",
    "plt.show()"
   ]
  },
  {
   "attachments": {},
   "cell_type": "markdown",
   "metadata": {},
   "source": [
    "Based on LOO and WAC criteria, the best one is the model with 1 predictor. Results of analysis models with 2 or 3 predictors are very similar to each other."
   ]
  }
 ],
 "metadata": {
  "kernelspec": {
   "display_name": "Python 3",
   "language": "python",
   "name": "python3"
  },
  "language_info": {
   "codemirror_mode": {
    "name": "ipython",
    "version": 3
   },
   "file_extension": ".py",
   "mimetype": "text/x-python",
   "name": "python",
   "nbconvert_exporter": "python",
   "pygments_lexer": "ipython3",
   "version": "3.9.11"
  },
  "orig_nbformat": 4
 },
 "nbformat": 4,
 "nbformat_minor": 2
}
